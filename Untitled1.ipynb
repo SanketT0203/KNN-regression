{
 "cells": [
  {
   "cell_type": "code",
   "execution_count": 1,
   "id": "04fcd5a2",
   "metadata": {},
   "outputs": [],
   "source": [
    "import numpy as np\n",
    "import pandas as pd \n",
    "import matplotlib.pyplot as plt \n",
    "import math\n",
    "from sklearn import neighbors\n",
    "from sklearn.metrics import mean_squared_error"
   ]
  },
  {
   "cell_type": "code",
   "execution_count": 2,
   "id": "6b5c3195",
   "metadata": {},
   "outputs": [
    {
     "name": "stdout",
     "output_type": "stream",
     "text": [
      "(53940, 10)\n"
     ]
    },
    {
     "data": {
      "text/plain": [
       "['carat', 'cut', 'color', 'clarity', 'depth', 'table', 'price', 'x', 'y', 'z']"
      ]
     },
     "execution_count": 2,
     "metadata": {},
     "output_type": "execute_result"
    }
   ],
   "source": [
    "df = pd.read_csv('diamonds.csv')\n",
    "print(df.shape)\n",
    "#rename columns\n",
    "col_names = ['carat', 'cut', 'color', 'clarity', 'depth', 'table', 'price','x','y','z']\n",
    "df.columns = col_names\n",
    "col_names"
   ]
  },
  {
   "cell_type": "code",
   "execution_count": 3,
   "id": "e1e52212",
   "metadata": {},
   "outputs": [
    {
     "data": {
      "text/plain": [
       "carat      0\n",
       "cut        0\n",
       "color      0\n",
       "clarity    0\n",
       "depth      0\n",
       "table      0\n",
       "price      0\n",
       "x          0\n",
       "y          0\n",
       "z          0\n",
       "dtype: int64"
      ]
     },
     "execution_count": 3,
     "metadata": {},
     "output_type": "execute_result"
    }
   ],
   "source": [
    "# check missing values \n",
    "\n",
    "df.isnull().sum()"
   ]
  },
  {
   "cell_type": "code",
   "execution_count": 4,
   "id": "0e68ef1a",
   "metadata": {},
   "outputs": [],
   "source": [
    "# Replacing the ordinal values not necessary but makes tasks easy\n",
    "df['cut'].replace({'Good':1, \n",
    "                          'Very Good':2,\n",
    "                          'Fair':3,\n",
    "                          'Ideal':4,\n",
    "                          'Premium':5\n",
    "                         }, inplace=True)\n",
    "# Replacing the ordinal values\n",
    "df['color'].replace({'J':1, \n",
    "                          'I':2,\n",
    "                          'H':3,\n",
    "                          'G':4,\n",
    "                          'F':5,\n",
    "                          'E':6,\n",
    "                          'D':7\n",
    "                         }, inplace=True)\n",
    "\n",
    "# Replacing the ordinal values\n",
    "df['clarity'].replace({'I1':1,\n",
    "                          'SI1':2,\n",
    "                          'SI2':3,\n",
    "                          'VS1':4,\n",
    "                          'VS2':5,\n",
    "                          'VVS1':6,\n",
    "                          'VVS2':7,\n",
    "                          'IF':8\n",
    "                         }, inplace=True)"
   ]
  },
  {
   "cell_type": "code",
   "execution_count": 12,
   "id": "ecfe86c7",
   "metadata": {},
   "outputs": [
    {
     "data": {
      "image/png": "[encoded data removed]",
      "text/plain": [
       "<Figure size 1440x360 with 4 Axes>"
      ]
     },
     "metadata": {
      "needs_background": "light"
     },
     "output_type": "display_data"
    }
   ],
   "source": [
    "#graphs to know the dataset better\n",
    "attributes=['cut', 'color', 'clarity']\n",
    "fig, subPlot=plt.subplots(nrows=1, ncols=4, figsize=(20,5))\n",
    "fig.suptitle('Bar charts of: '+ str(attributes))\n",
    "for colName, plotNumber in zip(attributes, range(len(attributes))):\n",
    "        df.groupby(colName).size().plot(kind='bar',ax=subPlot[plotNumber])"
   ]
  },
  {
   "cell_type": "code",
   "execution_count": 16,
   "id": "868cf300",
   "metadata": {},
   "outputs": [
    {
     "data": {
      "text/html": [
       "<div>\n",
       "<style scoped>\n",
       "    .dataframe tbody tr th:only-of-type {\n",
       "        vertical-align: middle;\n",
       "    }\n",
       "\n",
       "    .dataframe tbody tr th {\n",
       "        vertical-align: top;\n",
       "    }\n",
       "\n",
       "    .dataframe thead th {\n",
       "        text-align: right;\n",
       "    }\n",
       "</style>\n",
       "<table border=\"1\" class=\"dataframe\">\n",
       "  <thead>\n",
       "    <tr style=\"text-align: right;\">\n",
       "      <th></th>\n",
       "      <th>carat</th>\n",
       "      <th>cut</th>\n",
       "      <th>color</th>\n",
       "      <th>clarity</th>\n",
       "      <th>depth</th>\n",
       "      <th>table</th>\n",
       "      <th>price</th>\n",
       "      <th>x</th>\n",
       "      <th>y</th>\n",
       "      <th>z</th>\n",
       "    </tr>\n",
       "  </thead>\n",
       "  <tbody>\n",
       "    <tr>\n",
       "      <th>count</th>\n",
       "      <td>53940.000000</td>\n",
       "      <td>53940.000000</td>\n",
       "      <td>53940.000000</td>\n",
       "      <td>53940.000000</td>\n",
       "      <td>53940.000000</td>\n",
       "      <td>53940.000000</td>\n",
       "      <td>53940.000000</td>\n",
       "      <td>53940.000000</td>\n",
       "      <td>53940.000000</td>\n",
       "      <td>53940.000000</td>\n",
       "    </tr>\n",
       "    <tr>\n",
       "      <th>mean</th>\n",
       "      <td>0.797940</td>\n",
       "      <td>3.504987</td>\n",
       "      <td>4.405803</td>\n",
       "      <td>4.081183</td>\n",
       "      <td>61.749405</td>\n",
       "      <td>57.457184</td>\n",
       "      <td>3932.799722</td>\n",
       "      <td>5.731157</td>\n",
       "      <td>5.734526</td>\n",
       "      <td>3.538734</td>\n",
       "    </tr>\n",
       "    <tr>\n",
       "      <th>std</th>\n",
       "      <td>0.474011</td>\n",
       "      <td>1.324783</td>\n",
       "      <td>1.701105</td>\n",
       "      <td>1.769445</td>\n",
       "      <td>1.432621</td>\n",
       "      <td>2.234491</td>\n",
       "      <td>3989.439738</td>\n",
       "      <td>1.121761</td>\n",
       "      <td>1.142135</td>\n",
       "      <td>0.705699</td>\n",
       "    </tr>\n",
       "    <tr>\n",
       "      <th>min</th>\n",
       "      <td>0.200000</td>\n",
       "      <td>1.000000</td>\n",
       "      <td>1.000000</td>\n",
       "      <td>1.000000</td>\n",
       "      <td>43.000000</td>\n",
       "      <td>43.000000</td>\n",
       "      <td>326.000000</td>\n",
       "      <td>0.000000</td>\n",
       "      <td>0.000000</td>\n",
       "      <td>0.000000</td>\n",
       "    </tr>\n",
       "    <tr>\n",
       "      <th>25%</th>\n",
       "      <td>0.400000</td>\n",
       "      <td>2.000000</td>\n",
       "      <td>3.000000</td>\n",
       "      <td>2.000000</td>\n",
       "      <td>61.000000</td>\n",
       "      <td>56.000000</td>\n",
       "      <td>950.000000</td>\n",
       "      <td>4.710000</td>\n",
       "      <td>4.720000</td>\n",
       "      <td>2.910000</td>\n",
       "    </tr>\n",
       "    <tr>\n",
       "      <th>50%</th>\n",
       "      <td>0.700000</td>\n",
       "      <td>4.000000</td>\n",
       "      <td>4.000000</td>\n",
       "      <td>4.000000</td>\n",
       "      <td>61.800000</td>\n",
       "      <td>57.000000</td>\n",
       "      <td>2401.000000</td>\n",
       "      <td>5.700000</td>\n",
       "      <td>5.710000</td>\n",
       "      <td>3.530000</td>\n",
       "    </tr>\n",
       "    <tr>\n",
       "      <th>75%</th>\n",
       "      <td>1.040000</td>\n",
       "      <td>5.000000</td>\n",
       "      <td>6.000000</td>\n",
       "      <td>5.000000</td>\n",
       "      <td>62.500000</td>\n",
       "      <td>59.000000</td>\n",
       "      <td>5324.250000</td>\n",
       "      <td>6.540000</td>\n",
       "      <td>6.540000</td>\n",
       "      <td>4.040000</td>\n",
       "    </tr>\n",
       "    <tr>\n",
       "      <th>max</th>\n",
       "      <td>5.010000</td>\n",
       "      <td>5.000000</td>\n",
       "      <td>7.000000</td>\n",
       "      <td>8.000000</td>\n",
       "      <td>79.000000</td>\n",
       "      <td>95.000000</td>\n",
       "      <td>18823.000000</td>\n",
       "      <td>10.740000</td>\n",
       "      <td>58.900000</td>\n",
       "      <td>31.800000</td>\n",
       "    </tr>\n",
       "  </tbody>\n",
       "</table>\n",
       "</div>"
      ],
      "text/plain": [
       "              carat           cut         color       clarity         depth  \\\n",
       "count  53940.000000  53940.000000  53940.000000  53940.000000  53940.000000   \n",
       "mean       0.797940      3.504987      4.405803      4.081183     61.749405   \n",
       "std        0.474011      1.324783      1.701105      1.769445      1.432621   \n",
       "min        0.200000      1.000000      1.000000      1.000000     43.000000   \n",
       "25%        0.400000      2.000000      3.000000      2.000000     61.000000   \n",
       "50%        0.700000      4.000000      4.000000      4.000000     61.800000   \n",
       "75%        1.040000      5.000000      6.000000      5.000000     62.500000   \n",
       "max        5.010000      5.000000      7.000000      8.000000     79.000000   \n",
       "\n",
       "              table         price             x             y             z  \n",
       "count  53940.000000  53940.000000  53940.000000  53940.000000  53940.000000  \n",
       "mean      57.457184   3932.799722      5.731157      5.734526      3.538734  \n",
       "std        2.234491   3989.439738      1.121761      1.142135      0.705699  \n",
       "min       43.000000    326.000000      0.000000      0.000000      0.000000  \n",
       "25%       56.000000    950.000000      4.710000      4.720000      2.910000  \n",
       "50%       57.000000   2401.000000      5.700000      5.710000      3.530000  \n",
       "75%       59.000000   5324.250000      6.540000      6.540000      4.040000  \n",
       "max       95.000000  18823.000000     10.740000     58.900000     31.800000  "
      ]
     },
     "execution_count": 16,
     "metadata": {},
     "output_type": "execute_result"
    }
   ],
   "source": [
    "df.describe() #just to know more about data"
   ]
  },
  {
   "cell_type": "code",
   "execution_count": 17,
   "id": "38f49091",
   "metadata": {},
   "outputs": [
    {
     "name": "stdout",
     "output_type": "stream",
     "text": [
      "(37758, 7)\n",
      "(37758,)\n",
      "(16182, 7)\n",
      "(16182,)\n"
     ]
    }
   ],
   "source": [
    "# Treating all the nominal variables at once using dummy variables\n",
    "df_Numeric=pd.get_dummies(df)\n",
    "\n",
    "# Adding Target Variable to the data\n",
    "df_Numeric['price']=df['price']\n",
    "\n",
    "# Printing sample rows\n",
    "df_Numeric.head()\n",
    "\n",
    "# Separate Target Variable and Predictor Variables\n",
    "TargetVariable='price'\n",
    "Predictors=['carat', 'x', 'y', 'z', 'cut', 'color', 'clarity']\n",
    "\n",
    "X=df_Numeric[Predictors].values\n",
    "y=df_Numeric[TargetVariable].values\n",
    "\n",
    "# Split the data into training and testing set\n",
    "from sklearn.model_selection import train_test_split\n",
    "X_train, X_test, y_train, y_test = train_test_split(X, y, test_size=0.3, random_state=1)\n",
    "\n",
    "# Sanity check for the sampled data\n",
    "print(X_train.shape)\n",
    "print(y_train.shape)\n",
    "print(X_test.shape)\n",
    "print(y_test.shape)"
   ]
  },
  {
   "cell_type": "code",
   "execution_count": 18,
   "id": "07892ea4",
   "metadata": {},
   "outputs": [
    {
     "name": "stdout",
     "output_type": "stream",
     "text": [
      "MSE value for k=  1 is: 537416.5809541466\n",
      "MSE value for k=  2 is: 435530.781763688\n",
      "MSE value for k=  3 is: 418097.47866628214\n",
      "MSE value for k=  4 is: 415171.2033123223\n",
      "MSE value for k=  5 is: 416628.22079594614\n",
      "MSE value for k=  6 is: 418583.129859652\n",
      "MSE value for k=  7 is: 424561.1980860568\n",
      "MSE value for k=  8 is: 428866.0102776233\n",
      "MSE value for k=  9 is: 437046.4725529509\n",
      "MSE value for k=  10 is: 443814.1066573971\n",
      "MSE value for k=  11 is: 450192.7478879196\n",
      "MSE value for k=  12 is: 457428.1373190719\n",
      "MSE value for k=  13 is: 464432.6766913197\n",
      "MSE value for k=  14 is: 470569.7675601386\n",
      "MSE value for k=  15 is: 476038.77697166946\n",
      "MSE value for k=  16 is: 485389.14665769646\n",
      "MSE value for k=  17 is: 492633.0867093986\n",
      "MSE value for k=  18 is: 497234.6133422901\n",
      "MSE value for k=  19 is: 504981.1041669021\n",
      "MSE value for k=  20 is: 510625.0663675689\n",
      "MSE value for k=  21 is: 515365.25778579875\n",
      "MSE value for k=  22 is: 521936.447556769\n",
      "MSE value for k=  23 is: 527979.2547497874\n",
      "MSE value for k=  24 is: 532095.9831628766\n",
      "MSE value for k=  25 is: 537185.807411692\n",
      "MSE value for k=  26 is: 540692.1750948346\n",
      "MSE value for k=  27 is: 544230.2352549591\n",
      "MSE value for k=  28 is: 547064.3122792962\n",
      "MSE value for k=  29 is: 552286.2958198736\n",
      "MSE value for k=  30 is: 556540.4328268721\n",
      "Best Value of k using elbow curve is  4\n"
     ]
    },
    {
     "data": {
      "text/plain": [
       "Text(4, 415171.2033123223, '  elbow point')"
      ]
     },
     "execution_count": 18,
     "metadata": {},
     "output_type": "execute_result"
    },
    {
     "data": {
      "image/png": "[encoded data removed]",
      "text/plain": [
       "<Figure size 432x288 with 1 Axes>"
      ]
     },
     "metadata": {
      "needs_background": "light"
     },
     "output_type": "display_data"
    }
   ],
   "source": [
    "mse_val = [] #to store rmse values for different k\n",
    "for K in range(1,31):\n",
    "    model = neighbors.KNeighborsRegressor(n_neighbors = K)\n",
    "\n",
    "    model.fit(X_train, y_train)  #fit the model\n",
    "    pred=model.predict(X_test) #make prediction on test set\n",
    "    error = mean_squared_error(y_test,pred) #calculate rmse\n",
    "    mse_val.append(error) #store rmse values\n",
    "    print('MSE value for k= ' , K , 'is:', error)\n",
    "\n",
    "##function to find elbow point\n",
    "def find_elbow():\n",
    "    inds=np.argsort(mse_val)\n",
    "    for i in inds:\n",
    "        diff1=mse_val[i-1]-mse_val[i]\n",
    "        diff2=mse_val[i]-mse_val[i+1]\n",
    "        if(diff1>0 and diff2<0):   \n",
    "            break\n",
    "    eb1=i+1\n",
    "    return(eb1)\n",
    "\n",
    "##plotting the elbow curve \n",
    "k=np.arange(1,31)\n",
    "xl=\"k\"\n",
    "yl=\"MSE\"\n",
    "plt.xlabel(xl) \n",
    "plt.ylabel(yl)\n",
    "plt.title(\"Elbow Curve\")\n",
    "plt.plot(k,mse_val)\n",
    "\n",
    "##finding the k for the elbow point \n",
    "ke=find_elbow()\n",
    "print(\"Best Value of k using elbow curve is \",ke)\n",
    "plt.plot(ke,mse_val[ke-1],'rx')\n",
    "plt.annotate(\"  elbow point\", (ke,mse_val[ke-1]))\n"
   ]
  },
  {
   "cell_type": "code",
   "execution_count": 19,
   "id": "da61b344",
   "metadata": {},
   "outputs": [
    {
     "name": "stdout",
     "output_type": "stream",
     "text": [
      "R2 Value: 0.9669213525263922\n",
      "\n",
      "Accuracy values for 10-fold Cross Validation:\n",
      " [83.01640182 86.27082124 85.74709416 82.40318259 80.35584456 80.4641094\n",
      " 83.53759246 79.93442367 80.3081167  82.02893302]\n",
      "\n",
      "Final Average Accuracy of the model: 82.41\n"
     ]
    }
   ],
   "source": [
    "from sklearn import metrics\n",
    "# Measuring Goodness of fit in Training data\n",
    "print('R2 Value:',metrics.r2_score(y_train,model.predict(X_train)))\n",
    "#print(\"Accuracy:\",metrics.accuracy_score(y_test,pred))\n",
    "\n",
    "\n",
    "def Accuracy_Score(orig,preds):\n",
    "    MAPE = np.mean(100 * (np.abs(orig-preds)/orig))\n",
    "    #print('#'*70,'Accuracy:', 100-MAPE)\n",
    "    return(100-MAPE)\n",
    "# Custom Scoring MAPE calculation\n",
    "from sklearn.metrics import make_scorer\n",
    "custom_Scoring=make_scorer(Accuracy_Score, greater_is_better=True)\n",
    "\n",
    "# Importing cross validation function from sklearn\n",
    "from sklearn.model_selection import cross_val_score\n",
    "\n",
    "# Running 10-Fold Cross validation on a given algorithm\n",
    "# Passing full data X and y because the K-fold will split the data and automatically choose train/test\n",
    "Accuracy_Values=cross_val_score(model, X , y, cv=10, scoring=custom_Scoring)\n",
    "print('\\nAccuracy values for 10-fold Cross Validation:\\n',Accuracy_Values)\n",
    "print('\\nFinal Average Accuracy of the model:', round(Accuracy_Values.mean(),2))\n"
   ]
  },
  {
   "cell_type": "code",
   "execution_count": 20,
   "id": "89d7b67a",
   "metadata": {},
   "outputs": [
    {
     "name": "stdout",
     "output_type": "stream",
     "text": [
      "price of new diamond is [442.16666667]\n"
     ]
    }
   ],
   "source": [
    "#predicting price of diamond we want with custom features\n",
    "\n",
    "xnew=np.array([0.3,3.90,2.98,2.56,2,2,2])\n",
    "xnew=xnew.reshape(1,-1)\n",
    "new=model.predict(xnew)\n",
    "print('price of new diamond is',new)"
   ]
  },
  {
   "cell_type": "code",
   "execution_count": null,
   "id": "e10adb11",
   "metadata": {},
   "outputs": [],
   "source": []
  }
 ],
 "metadata": {
  "kernelspec": {
   "display_name": "Python 3",
   "language": "python",
   "name": "python3"
  },
  "language_info": {
   "codemirror_mode": {
    "name": "ipython",
    "version": 3
   },
   "file_extension": ".py",
   "mimetype": "text/x-python",
   "name": "python",
   "nbconvert_exporter": "python",
   "pygments_lexer": "ipython3",
   "version": "3.8.5"
  }
 },
 "nbformat": 4,
 "nbformat_minor": 5
}
